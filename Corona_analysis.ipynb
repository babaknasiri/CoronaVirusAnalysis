{
 "cells": [
  {
   "cell_type": "code",
   "execution_count": 55,
   "metadata": {},
   "outputs": [],
   "source": [
    "#This script analyse the impacts of Corona Virus in the World based on the data provided in \n",
    "# https://github.com/CSSEGISandData/COVID-19/tree/master/csse_covid_19_data/csse_covid_19_time_series"
   ]
  },
  {
   "cell_type": "code",
   "execution_count": 14,
   "metadata": {},
   "outputs": [],
   "source": [
    "# Step 0) updating tha local data - optional\n",
    "## Download the timeseri of daily deaths per country\n",
    "\n",
    "import pandas as pd\n",
    "url = 'https://raw.githubusercontent.com/CSSEGISandData/COVID-19/master/csse_covid_19_data/csse_covid_19_time_series/time_series_covid19_deaths_global.csv'\n",
    "data = pd.read_csv(url)\n",
    "data.to_csv('time_series_covid19_deaths_global.csv',index=False)"
   ]
  },
  {
   "cell_type": "code",
   "execution_count": 15,
   "metadata": {},
   "outputs": [],
   "source": [
    "# Step 1) reading local data - mandatory\n",
    "\n",
    "import pandas as pd\n",
    "data = pd.read_csv('time_series_covid19_deaths_global.csv')"
   ]
  },
  {
   "cell_type": "code",
   "execution_count": 16,
   "metadata": {},
   "outputs": [],
   "source": [
    "# step 2.1) Data Pre-precessing: removing unneccessory columns and aggregate data based on Country/Region Column\n",
    "\n",
    "data.drop(['Lat', 'Long', 'Province/State'], axis='columns',inplace=True)\n",
    "data = data.groupby('Country/Region').agg('sum').reset_index()"
   ]
  },
  {
   "cell_type": "code",
   "execution_count": 17,
   "metadata": {},
   "outputs": [],
   "source": [
    "#data.rename(columns={'Country/Region':'Country'})"
   ]
  },
  {
   "cell_type": "code",
   "execution_count": 18,
   "metadata": {},
   "outputs": [],
   "source": [
    "# Step 2.2) Convert the table so that each country and each day is a separate row \n",
    "\n",
    "new_data = pd.melt(data,id_vars='Country/Region',var_name='Date', value_name='Count')"
   ]
  },
  {
   "cell_type": "code",
   "execution_count": 19,
   "metadata": {},
   "outputs": [],
   "source": [
    "new_data.columns=['Country','Date','Count']"
   ]
  },
  {
   "cell_type": "code",
   "execution_count": 20,
   "metadata": {},
   "outputs": [],
   "source": [
    "# Step 3.1) create an in-memory SQLite DB \n",
    "from sqlalchemy import create_engine\n",
    "engine = create_engine('sqlite://', echo=False)"
   ]
  },
  {
   "cell_type": "code",
   "execution_count": 21,
   "metadata": {},
   "outputs": [],
   "source": [
    "# Step 3.2) Provide code to upload the table from step 3 into an SQL table named deaths_total\n",
    "data.to_sql('deaths_total',con=engine)"
   ]
  },
  {
   "cell_type": "code",
   "execution_count": 22,
   "metadata": {},
   "outputs": [],
   "source": [
    "# Step 4) From the data in step 2, calculate the daily change in deaths for each country\n",
    "grouped_data = new_data.groupby('Country')\n",
    "new_data['daily_change'] = grouped_data['Count'].diff()"
   ]
  },
  {
   "cell_type": "code",
   "execution_count": 23,
   "metadata": {},
   "outputs": [],
   "source": [
    "# Step 5) Provide code to upload the table from step 4 into an SQL table named deaths_change_python\n",
    "new_data.to_sql('deaths_change_python',con=engine)"
   ]
  },
  {
   "cell_type": "code",
   "execution_count": 24,
   "metadata": {},
   "outputs": [
    {
     "ename": "NameError",
     "evalue": "name 'connection' is not defined",
     "output_type": "error",
     "traceback": [
      "\u001b[1;31m---------------------------------------------------------------------------\u001b[0m",
      "\u001b[1;31mNameError\u001b[0m                                 Traceback (most recent call last)",
      "\u001b[1;32m<ipython-input-24-0da231f0229d>\u001b[0m in \u001b[0;36m<module>\u001b[1;34m\u001b[0m\n\u001b[1;32m----> 1\u001b[1;33m \u001b[0mconnection\u001b[0m\u001b[1;33m.\u001b[0m\u001b[0mclose\u001b[0m\u001b[1;33m(\u001b[0m\u001b[1;33m)\u001b[0m\u001b[1;33m\u001b[0m\u001b[1;33m\u001b[0m\u001b[0m\n\u001b[0m",
      "\u001b[1;31mNameError\u001b[0m: name 'connection' is not defined"
     ]
    }
   ],
   "source": [
    "connection.close()"
   ]
  },
  {
   "cell_type": "code",
   "execution_count": 25,
   "metadata": {},
   "outputs": [
    {
     "data": {
      "text/plain": [
       "'\\ncreate table deaths_change_sql as\\nwith CORONA_NEW as\\n (select *\\n    from deaths_total unpivot(cvalue For cday IN(\"1_22_20\" as \\'01/22/20\\',\\n                                           \"1_23_20\" as \\'01/23/20\\',\\n                                           \"1_24_20\" as \\'01/24/20\\',\\n                                           \"1_25_20\" as \\'01/25/20\\',\\n                                           \"1_26_20\" as \\'01/26/20\\',\\n                                           \"1_27_20\" as \\'01/27/20\\',\\n                                           \"1_28_20\" as \\'01/28/20\\',\\n                                           \"1_29_20\" as \\'01/29/20\\',\\n                                           \"1_30_20\" as \\'01/30/20\\',\\n                                           \"1_31_20\" as \\'01/31/20\\',\\n                                           \"2_10_20\" as \\'02/10/20\\',\\n                                           \"2_11_20\" as \\'02/11/20\\',\\n                                           \"2_12_20\" as \\'02/12/20\\',\\n                                           \"2_13_20\" as \\'02/13/20\\',\\n                                           \"2_14_20\" as \\'02/14/20\\',\\n                                           \"2_15_20\" as \\'02/15/20\\',\\n                                           \"2_16_20\" as \\'02/16/20\\',\\n                                           \"2_17_20\" as \\'02/17/20\\',\\n                                           \"2_18_20\" as \\'02/18/20\\',\\n                                           \"2_19_20\" as \\'02/19/20\\',\\n                                           \"2_1_20\" as \\'02/01/20\\',\\n                                           \"2_20_20\" as \\'02/20/20\\',\\n                                           \"2_21_20\" as \\'02/21/20\\',\\n                                           \"2_22_20\" as \\'02/22/20\\',\\n                                           \"2_23_20\" as \\'02/23/20\\',\\n                                           \"2_24_20\" as \\'02/24/20\\',\\n                                           \"2_25_20\" as \\'02/25/20\\',\\n                                           \"2_26_20\" as \\'02/26/20\\',\\n                                           \"2_27_20\" as \\'02/27/20\\',\\n                                           \"2_28_20\" as \\'02/28/20\\',\\n                                           \"2_29_20\" as \\'02/29/20\\',\\n                                           \"2_2_20\" as \\'02/02/20\\',\\n                                           \"2_3_20\" as \\'02/03/20\\',\\n                                           \"2_4_20\" as \\'02/04/20\\',\\n                                           \"2_5_20\" as \\'02/05/20\\',\\n                                           \"2_6_20\" as \\'02/06/20\\',\\n                                           \"2_7_20\" as \\'02/07/20\\',\\n                                           \"2_8_20\" as \\'02/08/20\\',\\n                                           \"2_9_20\" as \\'02/09/20\\',\\n                                           \"3_10_20\" as \\'03/10/20\\',\\n                                           \"3_11_20\" as \\'03/11/20\\',\\n                                           \"3_12_20\" as \\'03/12/20\\',\\n                                           \"3_13_20\" as \\'03/13/20\\',\\n                                           \"3_14_20\" as \\'03/14/20\\',\\n                                           \"3_15_20\" as \\'03/15/20\\',\\n                                           \"3_16_20\" as \\'03/16/20\\',\\n                                           \"3_17_20\" as \\'03/17/20\\',\\n                                           \"3_18_20\" as \\'03/18/20\\',\\n                                           \"3_19_20\" as \\'03/19/20\\',\\n                                           \"3_1_20\" as \\'03/01/20\\',\\n                                           \"3_20_20\" as \\'03/20/20\\',\\n                                           \"3_21_20\" as \\'03/21/20\\',\\n                                           \"3_22_20\" as \\'03/22/20\\',\\n                                           \"3_23_20\" as \\'03/23/20\\',\\n                                           \"3_24_20\" as \\'03/24/20\\',\\n                                           \"3_25_20\" as \\'03/25/20\\',\\n                                           \"3_26_20\" as \\'03/26/20\\',\\n                                           \"3_27_20\" as \\'03/27/20\\',\\n                                           \"3_28_20\" as \\'03/28/20\\',\\n                                           \"3_29_20\" as \\'03/29/20\\',\\n                                           \"3_2_20\" as \\'03/02/20\\',\\n                                           \"3_30_20\" as \\'03/30/20\\',\\n                                           \"3_31_20\" as \\'03/31/20\\',\\n                                           \"3_3_20\" as \\'03/03/20\\',\\n                                           \"3_4_20\" as \\'03/04/20\\',\\n                                           \"3_5_20\" as \\'03/05/20\\',\\n                                           \"3_6_20\" as \\'03/06/20\\',\\n                                           \"3_7_20\" as \\'03/07/20\\',\\n                                           \"3_8_20\" as \\'03/08/20\\',\\n                                           \"3_9_20\" as \\'03/09/20\\',\\n                                           \"4_1_20\" as \\'04/01/20\\',\\n                                           \"4_2_20\" as \\'04/02/20\\',\\n                                           \"4_3_20\" as \\'04/03/20\\',\\n                                           \"4_4_20\" as \\'04/04/20\\',\\n                                           \"4_5_20\" as \\'04/05/20\\')) t\\n   order by t.country_region)\\nselect s.country_region,\\n       cday,\\n       Cvalue - lag(CVALUE, 1, 0) over(partition by country_region order by CDAY) as diff\\n  from corona_new s\\n order by s.country_region, s.cday\\n'"
      ]
     },
     "execution_count": 25,
     "metadata": {},
     "output_type": "execute_result"
    }
   ],
   "source": [
    "# Step 6) Provide SQL code to calculate the daily change for each country using only the data from deaths_total\n",
    "# and save it into an SQL table named deaths_change_sql\n",
    "# cday is equal to Date\n",
    "# cvalue is equal to Count\n",
    "\n",
    "# SQL CODE\n",
    "'''\n",
    "create table deaths_change_sql as\n",
    "with CORONA_NEW as\n",
    " (select *\n",
    "    from deaths_total unpivot(cvalue For cday IN(\"1_22_20\" as '01/22/20',\n",
    "                                           \"1_23_20\" as '01/23/20',\n",
    "                                           \"1_24_20\" as '01/24/20',\n",
    "                                           \"1_25_20\" as '01/25/20',\n",
    "                                           \"1_26_20\" as '01/26/20',\n",
    "                                           \"1_27_20\" as '01/27/20',\n",
    "                                           \"1_28_20\" as '01/28/20',\n",
    "                                           \"1_29_20\" as '01/29/20',\n",
    "                                           \"1_30_20\" as '01/30/20',\n",
    "                                           \"1_31_20\" as '01/31/20',\n",
    "                                           \"2_10_20\" as '02/10/20',\n",
    "                                           \"2_11_20\" as '02/11/20',\n",
    "                                           \"2_12_20\" as '02/12/20',\n",
    "                                           \"2_13_20\" as '02/13/20',\n",
    "                                           \"2_14_20\" as '02/14/20',\n",
    "                                           \"2_15_20\" as '02/15/20',\n",
    "                                           \"2_16_20\" as '02/16/20',\n",
    "                                           \"2_17_20\" as '02/17/20',\n",
    "                                           \"2_18_20\" as '02/18/20',\n",
    "                                           \"2_19_20\" as '02/19/20',\n",
    "                                           \"2_1_20\" as '02/01/20',\n",
    "                                           \"2_20_20\" as '02/20/20',\n",
    "                                           \"2_21_20\" as '02/21/20',\n",
    "                                           \"2_22_20\" as '02/22/20',\n",
    "                                           \"2_23_20\" as '02/23/20',\n",
    "                                           \"2_24_20\" as '02/24/20',\n",
    "                                           \"2_25_20\" as '02/25/20',\n",
    "                                           \"2_26_20\" as '02/26/20',\n",
    "                                           \"2_27_20\" as '02/27/20',\n",
    "                                           \"2_28_20\" as '02/28/20',\n",
    "                                           \"2_29_20\" as '02/29/20',\n",
    "                                           \"2_2_20\" as '02/02/20',\n",
    "                                           \"2_3_20\" as '02/03/20',\n",
    "                                           \"2_4_20\" as '02/04/20',\n",
    "                                           \"2_5_20\" as '02/05/20',\n",
    "                                           \"2_6_20\" as '02/06/20',\n",
    "                                           \"2_7_20\" as '02/07/20',\n",
    "                                           \"2_8_20\" as '02/08/20',\n",
    "                                           \"2_9_20\" as '02/09/20',\n",
    "                                           \"3_10_20\" as '03/10/20',\n",
    "                                           \"3_11_20\" as '03/11/20',\n",
    "                                           \"3_12_20\" as '03/12/20',\n",
    "                                           \"3_13_20\" as '03/13/20',\n",
    "                                           \"3_14_20\" as '03/14/20',\n",
    "                                           \"3_15_20\" as '03/15/20',\n",
    "                                           \"3_16_20\" as '03/16/20',\n",
    "                                           \"3_17_20\" as '03/17/20',\n",
    "                                           \"3_18_20\" as '03/18/20',\n",
    "                                           \"3_19_20\" as '03/19/20',\n",
    "                                           \"3_1_20\" as '03/01/20',\n",
    "                                           \"3_20_20\" as '03/20/20',\n",
    "                                           \"3_21_20\" as '03/21/20',\n",
    "                                           \"3_22_20\" as '03/22/20',\n",
    "                                           \"3_23_20\" as '03/23/20',\n",
    "                                           \"3_24_20\" as '03/24/20',\n",
    "                                           \"3_25_20\" as '03/25/20',\n",
    "                                           \"3_26_20\" as '03/26/20',\n",
    "                                           \"3_27_20\" as '03/27/20',\n",
    "                                           \"3_28_20\" as '03/28/20',\n",
    "                                           \"3_29_20\" as '03/29/20',\n",
    "                                           \"3_2_20\" as '03/02/20',\n",
    "                                           \"3_30_20\" as '03/30/20',\n",
    "                                           \"3_31_20\" as '03/31/20',\n",
    "                                           \"3_3_20\" as '03/03/20',\n",
    "                                           \"3_4_20\" as '03/04/20',\n",
    "                                           \"3_5_20\" as '03/05/20',\n",
    "                                           \"3_6_20\" as '03/06/20',\n",
    "                                           \"3_7_20\" as '03/07/20',\n",
    "                                           \"3_8_20\" as '03/08/20',\n",
    "                                           \"3_9_20\" as '03/09/20',\n",
    "                                           \"4_1_20\" as '04/01/20',\n",
    "                                           \"4_2_20\" as '04/02/20',\n",
    "                                           \"4_3_20\" as '04/03/20',\n",
    "                                           \"4_4_20\" as '04/04/20',\n",
    "                                           \"4_5_20\" as '04/05/20')) t\n",
    "   order by t.country_region)\n",
    "select s.country_region,\n",
    "       cday,\n",
    "       Cvalue - lag(CVALUE, 1, 0) over(partition by country_region order by CDAY) as diff\n",
    "  from corona_new s\n",
    " order by s.country_region, s.cday\n",
    "'''"
   ]
  },
  {
   "cell_type": "code",
   "execution_count": 26,
   "metadata": {},
   "outputs": [],
   "source": [
    "new_data.to_csv('new_data_python_last.csv')"
   ]
  },
  {
   "cell_type": "code",
   "execution_count": null,
   "metadata": {},
   "outputs": [],
   "source": []
  }
 ],
 "metadata": {
  "kernelspec": {
   "display_name": "Python 3",
   "language": "python",
   "name": "python3"
  },
  "language_info": {
   "codemirror_mode": {
    "name": "ipython",
    "version": 3
   },
   "file_extension": ".py",
   "mimetype": "text/x-python",
   "name": "python",
   "nbconvert_exporter": "python",
   "pygments_lexer": "ipython3",
   "version": "3.7.4"
  }
 },
 "nbformat": 4,
 "nbformat_minor": 2
}
